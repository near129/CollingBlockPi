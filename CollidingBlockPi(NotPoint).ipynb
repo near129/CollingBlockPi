{
  "nbformat": 4,
  "nbformat_minor": 0,
  "metadata": {
    "colab": {
      "name": "CollidingBlockPi(NotDisp).ipynb",
      "provenance": [],
      "collapsed_sections": [],
      "include_colab_link": true
    },
    "kernelspec": {
      "name": "python3",
      "display_name": "Python 3"
    }
  },
  "cells": [
    {
      "cell_type": "markdown",
      "metadata": {
        "id": "view-in-github",
        "colab_type": "text"
      },
      "source": [
        "<a href=\"https://colab.research.google.com/github/near129/CollingBlockPi/blob/master/CollidingBlockPi(NotPoint).ipynb\" target=\"_parent\"><img src=\"https://colab.research.google.com/assets/colab-badge.svg\" alt=\"Open In Colab\"/></a>"
      ]
    },
    {
      "cell_type": "code",
      "metadata": {
        "id": "GZZEr1K4jAjT",
        "colab_type": "code",
        "colab": {}
      },
      "source": [
        "# jupyterでmatplotlibのアニメーションを表示するため\n",
        "%matplotlib nbagg\n",
        "\n",
        "import numpy as np\n",
        "import matplotlib.pyplot as plt\n",
        "import matplotlib.animation as animation"
      ],
      "execution_count": 0,
      "outputs": []
    },
    {
      "cell_type": "markdown",
      "metadata": {
        "id": "OOAcZ3ge0Xrn",
        "colab_type": "text"
      },
      "source": [
        "# 初期化"
      ]
    },
    {
      "cell_type": "code",
      "metadata": {
        "id": "PHk7gCSokdZN",
        "colab_type": "code",
        "colab": {}
      },
      "source": [
        "N = 0"
      ],
      "execution_count": 0,
      "outputs": []
    },
    {
      "cell_type": "code",
      "metadata": {
        "colab_type": "code",
        "id": "4h4g9axdYrW3",
        "colab": {}
      },
      "source": [
        "# 絵が変わる間隔(s)\n",
        "INTERVAL = 0.01\n",
        "#　小さい方の質量\n",
        "m_2 = 1\n",
        "# 大きい方の質量\n",
        "m_1 = 100**N * m_2\n",
        "# 初速度\n",
        "v_1 = -1\n",
        "v_2 = 0\n",
        "# ブロックは左端の座標\n",
        "x_1 = 10\n",
        "x_2 = 6"
      ],
      "execution_count": 0,
      "outputs": []
    },
    {
      "cell_type": "code",
      "metadata": {
        "id": "zSvkm_cktjxK",
        "colab_type": "code",
        "colab": {}
      },
      "source": [
        "R = 100**N\n",
        "v = [v_1, v_2]\n",
        "x = [x_1, x_2]"
      ],
      "execution_count": 0,
      "outputs": []
    },
    {
      "cell_type": "markdown",
      "metadata": {
        "id": "UdkHL7wluC-P",
        "colab_type": "text"
      },
      "source": [
        "# 関数\n",
        "## 衝突する時間を計算する\n",
        "$$\n",
        "x_a' = x_a + v_a t \\\\\n",
        "x_b' = x_b + v_b t \\\\\n",
        "$$\n",
        "衝突するときは$x_a' - x_b' = 0$となるときなので\n",
        "\\begin{align}\n",
        "(x_a + v_a t) - (x_b + v_b t) & = 0\\\\\n",
        "(v_a - v_b)t & = x_b - x_a\\\\\n",
        "t & = \\frac{x_b - x_a}{v_a - v_b}\n",
        "\\end{align}\n",
        "## ブロック同士の衝突後の速度\n",
        "運動量保存則より\n",
        "$$\n",
        "rmv_1' + mv_2' = rmv_1 + mv_2 \\\\\n",
        "$$\n",
        "完全弾性衝突という条件より\n",
        "$$\n",
        "-\\frac{v_2' - v_1'}{v_2 - v_1} = 1\n",
        "$$\n",
        "これらより、\n",
        "\n",
        "\n",
        "\\begin{eqnarray}\n",
        "\\begin{cases}\n",
        "v_1' = \\frac{r-1}{r+1}v_1 + \\frac{2}{r+1}v_2 &  \\\\\n",
        "v_2' = \\frac{2r}{r+1}v_1 - \\frac{r-1}{r+1}v_2 &\n",
        "\\end{cases}\n",
        "\\end{eqnarray}\n",
        "\n",
        "\n",
        "## 壁との衝突後の速度\n",
        "壁は速度が変わらず完全弾性衝突なので\n",
        "$$\n",
        "v_2' = -v_2\\\\\n",
        "$$\n",
        "となる。"
      ]
    },
    {
      "cell_type": "code",
      "metadata": {
        "id": "7Q5A68KBsjIs",
        "colab_type": "code",
        "colab": {}
      },
      "source": [
        "# ブロック同士衝突するまでの時間を計算する関数\n",
        "def time_collide_blocks(x, v):\n",
        "    time = (x[1] - x[0]) / (v[0] - v[1])\n",
        "    return time"
      ],
      "execution_count": 0,
      "outputs": []
    },
    {
      "cell_type": "code",
      "metadata": {
        "id": "10vEh2POIVig",
        "colab_type": "code",
        "colab": {}
      },
      "source": [
        "# 壁と衝突するまでの時間を計算する関数\n",
        "def time_collide_wall(x, v):\n",
        "    time = x[1] / v[1]\n",
        "    return time"
      ],
      "execution_count": 0,
      "outputs": []
    },
    {
      "cell_type": "code",
      "metadata": {
        "id": "2SC5vBvEzncP",
        "colab_type": "code",
        "colab": {}
      },
      "source": [
        "# dt秒後の座標を返す関数\n",
        "def point_update(x, v, dt):\n",
        "    x += v * dt\n",
        "    return x"
      ],
      "execution_count": 0,
      "outputs": []
    },
    {
      "cell_type": "code",
      "metadata": {
        "id": "3fhjqKYY0Z_L",
        "colab_type": "code",
        "colab": {}
      },
      "source": [
        "# ブロック同士の衝突後の速度を計算する関数\n",
        "def velocity_collide_blocks(v):\n",
        "    global R\n",
        "    v0 = ((R - 1) *  v[0] + 2 * v[1]) / (R + 1)\n",
        "    v1 = (2 * R * v[0] -  (R - 1) * v[1]) / (R + 1)\n",
        "    return [v0, v1]"
      ],
      "execution_count": 0,
      "outputs": []
    },
    {
      "cell_type": "code",
      "metadata": {
        "id": "tmMQPGQo06XH",
        "colab_type": "code",
        "colab": {}
      },
      "source": [
        "# 壁とブロックの衝突後の速度を計算する関数\n",
        "def velocity_collide_wall(v):\n",
        "    v[1] *= -1\n",
        "    return v"
      ],
      "execution_count": 0,
      "outputs": []
    },
    {
      "cell_type": "code",
      "metadata": {
        "id": "sgSl_vC-R2ZD",
        "colab_type": "code",
        "outputId": "15802d5f-a185-4c11-bc17-f93ece7b9f3a",
        "colab": {
          "base_uri": "https://localhost:8080/",
          "height": 82
        }
      },
      "source": [
        "R = 100**0\n",
        "v = [v_1, v_2]\n",
        "x = [x_1, x_2]\n",
        "\n",
        "n = 0\n",
        "flag = True\n",
        "while not(0 <= v[1] <= v[0]):\n",
        "    print('v0: {}  v1: {}'.format(v[0], v[1]))\n",
        "    if flag:\n",
        "        v = velocity_collide_blocks(v)\n",
        "    else:\n",
        "        v = velocity_collide_wall(v)\n",
        "    flag = not flag\n",
        "    n += 1\n",
        "n"
      ],
      "execution_count": 10,
      "outputs": [
        {
          "output_type": "stream",
          "text": [
            "v0: -1  v1: 0\n",
            "v0: 0.0  v1: -1.0\n",
            "v0: 0.0  v1: 1.0\n"
          ],
          "name": "stdout"
        },
        {
          "output_type": "execute_result",
          "data": {
            "text/plain": [
              "3"
            ]
          },
          "metadata": {
            "tags": []
          },
          "execution_count": 10
        }
      ]
    },
    {
      "cell_type": "code",
      "metadata": {
        "id": "YZnBb53abJB5",
        "colab_type": "code",
        "colab": {}
      },
      "source": [
        ""
      ],
      "execution_count": 0,
      "outputs": []
    }
  ]
}